{
 "cells": [
  {
   "cell_type": "markdown",
   "id": "71026dc4",
   "metadata": {},
   "source": [
    "# 1. Convert the Temperature (LeetCode: 2469)\n",
    "https://leetcode.com/problems/convert-the-temperature/"
   ]
  },
  {
   "cell_type": "markdown",
   "id": "eccb8e96",
   "metadata": {},
   "source": [
    "*Example 1:*\n",
    "\n",
    "**Input**: celsius = 36.50\n",
    "\n",
    "**Output**: [309.65000,97.70000]\n",
    "\n",
    "**Explanation**: Temperature at 36.50 Celsius converted in Kelvin is 309.65 and converted in Fahrenheit is 97.70.\n",
    "\n",
    "*Example 2:*\n",
    "\n",
    "**Input**: celsius = 122.11\n",
    "\n",
    "**Output**: [395.26000,251.79800]\n",
    "\n",
    "**Explanation**: Temperature at 122.11 Celsius converted in Kelvin is 395.26 and converted in Fahrenheit is 251.798."
   ]
  },
  {
   "cell_type": "code",
   "execution_count": 24,
   "id": "50d96313",
   "metadata": {},
   "outputs": [
    {
     "name": "stdout",
     "output_type": "stream",
     "text": [
      "[395.26000 251.79800]\n"
     ]
    }
   ],
   "source": [
    "import re\n",
    "\n",
    "string = input()\n",
    "pattern = \"^celsius = (\\d*\\.\\d{2})$\"\n",
    "\n",
    "match = re.match(pattern, string)\n",
    "if match:\n",
    "    temperature = float(match.group(1))\n",
    "    kelvin = temperature + 273.15\n",
    "    fahrenheit = temperature * 1.8 + 32\n",
    "    \n",
    "    print(f\"[{kelvin:.5f} {fahrenheit:.5f}]\")\n",
    "\n",
    "\n"
   ]
  },
  {
   "cell_type": "markdown",
   "id": "982d6b99",
   "metadata": {},
   "source": [
    "# 2. Robot Return to Origin (LeetCode: 657)\n",
    "https://leetcode.com/problems/robot-return-to-origin/"
   ]
  },
  {
   "cell_type": "markdown",
   "id": "7357c959",
   "metadata": {},
   "source": [
    "*Example 1:*\n",
    "\n",
    "**Input**: moves = \"UD\"\n",
    "\n",
    "**Output**: true\n",
    "\n",
    "**Explanation**: The robot moves up once, and then down once. All moves have the same magnitude, so it ended up at the origin where it started. Therefore, we return true.\n",
    "\n",
    "*Example 2:*\n",
    "\n",
    "**Input**: moves = \"LL\"\n",
    "\n",
    "**Output**: false\n",
    "\n",
    "**Explanation**: The robot moves left twice. It ends up two \"moves\" to the left of the origin. We return false because it is not at the origin at the end of its moves."
   ]
  },
  {
   "cell_type": "code",
   "execution_count": null,
   "id": "88ec7f3a",
   "metadata": {},
   "outputs": [
    {
     "name": "stdout",
     "output_type": "stream",
     "text": [
      "False\n"
     ]
    }
   ],
   "source": [
    "string = input()\n",
    "pattern = \"^moves = \\\"(\\w*)\\\"$\"\n",
    "position = {'x':0, 'y':0}\n",
    "\n",
    "match = re.match(pattern, string)\n",
    "if match:\n",
    "    way = match.group(1)\n",
    "    for i in way:\n",
    "        if i == 'U':\n",
    "            position['y'] += 1\n",
    "        elif i == 'D':\n",
    "            position['y'] -= 1\n",
    "        elif i == 'R':\n",
    "            position['x'] += 1\n",
    "        else:\n",
    "            position['x'] -= 1 \n",
    "print(position['x'] ==position['y'] == 0 )\n"
   ]
  },
  {
   "cell_type": "markdown",
   "id": "30353c74",
   "metadata": {},
   "source": [
    "# 3. Valid Palindrome (LeetCode: 125)\n",
    "https://leetcode.com/problems/valid-palindrome/\n"
   ]
  },
  {
   "cell_type": "markdown",
   "id": "123ef9d0",
   "metadata": {},
   "source": [
    "*Example 1:*\n",
    "\n",
    "**Input**: s = \"A man, a plan, a canal: Panama\"\n",
    "\n",
    "**Output**: true\n",
    "\n",
    "**Explanation**: \"amanaplanacanalpanama\" is a palindrome.\n",
    "\n",
    "*Example 2:*\n",
    "\n",
    "**Input**: s = \"race a car\"\n",
    "\n",
    "**Output**: false\n",
    "\n",
    "**Explanation**: \"raceacar\" is not a palindrome.\n",
    "\n",
    "*Example 3:*\n",
    "\n",
    "**Input**: s = \" \"\n",
    "\n",
    "**Output**: true\n",
    "\n",
    "**Explanation**: s is an empty string \"\" after removing non-alphanumeric characters.\n",
    "Since an empty string reads the same forward and backward, it is a palindrome."
   ]
  },
  {
   "cell_type": "code",
   "execution_count": 37,
   "id": "84fb036e",
   "metadata": {},
   "outputs": [
    {
     "data": {
      "text/plain": [
       "False"
      ]
     },
     "execution_count": 37,
     "metadata": {},
     "output_type": "execute_result"
    }
   ],
   "source": [
    "s = input() #\"A man, a plan, a canal: Panama\" ; \"race a car\"\n",
    "processed = re.sub(r'[^a-zA-Z]', '', s).lower()\n",
    "def palindrome(str):\n",
    "    lenght = len(str)\n",
    "    for i in range(lenght):\n",
    "        if str[i] == str[lenght -1- i]:\n",
    "            continue\n",
    "        else:\n",
    "            return False\n",
    "    return True\n",
    "palindrome(processed)\n"
   ]
  },
  {
   "cell_type": "markdown",
   "id": "7b04059a",
   "metadata": {},
   "source": [
    "# 4. Valid Anagram (LeetCode: 242)\n",
    "https://leetcode.com/problems/valid-anagram/"
   ]
  },
  {
   "cell_type": "markdown",
   "id": "99536391",
   "metadata": {},
   "source": [
    "*Example 1:*\n",
    "\n",
    "**Input**: s = \"anagram\", t = \"nagaram\"\n",
    "\n",
    "**Output**: true\n",
    "\n",
    "*Example 2:*\n",
    "\n",
    "**Input**: s = \"rat\", t = \"car\"\n",
    "\n",
    "**Output**: false"
   ]
  },
  {
   "cell_type": "code",
   "execution_count": 47,
   "id": "d893caba",
   "metadata": {},
   "outputs": [
    {
     "name": "stdout",
     "output_type": "stream",
     "text": [
      "False\n"
     ]
    }
   ],
   "source": [
    "str = input() #s = \"anagram\", t = \"nagaram\"; s = \"rat\", t = \"car\"\n",
    "pattern = \"^s = \\\"(\\w*)\\\", t = \\\"(\\w*)\\\"$\"\n",
    "\n",
    "match = re.match(pattern, str)\n",
    "if match:\n",
    "    first = match.group(1)\n",
    "    second = match.group(2)\n",
    "\n",
    "def create_dict(s):\n",
    "    dict = {}\n",
    "    for i in range(len(s)):\n",
    "        if s[i] in dict:\n",
    "            dict[s[i]] += 1\n",
    "        else:\n",
    "            dict[s[i]] = 0\n",
    "    return dict\n",
    "\n",
    "print(create_dict(first) == create_dict(second))\n",
    "    "
   ]
  },
  {
   "cell_type": "markdown",
   "id": "92d81a96",
   "metadata": {},
   "source": [
    "# 5. Pascal's Triangle (LeetCode: 118)\n",
    "https://leetcode.com/problems/pascals-triangle/"
   ]
  },
  {
   "cell_type": "markdown",
   "id": "77296d18",
   "metadata": {},
   "source": [
    "*Example 1:*\n",
    "\n",
    "**Input**: numRows = 5\n",
    "\n",
    "**Output**: [[1],[1,1],[1,2,1],[1,3,3,1],[1,4,6,4,1]]\n",
    "\n",
    "*Example 2:*\n",
    "\n",
    "**Input**: numRows = 1\n",
    "\n",
    "**Output**: [[1]]"
   ]
  },
  {
   "cell_type": "code",
   "execution_count": 75,
   "id": "3925863c",
   "metadata": {},
   "outputs": [
    {
     "name": "stdout",
     "output_type": "stream",
     "text": [
      "[[1], [1, 1], [1, 2, 1], [1, 3, 3, 1], [1, 4, 6, 4, 1]]\n"
     ]
    },
    {
     "data": {
      "text/plain": [
       "[[0, 1, 0, 0, 0, 0],\n",
       " [0, 1, 1, 0, 0, 0],\n",
       " [0, 1, 2, 1, 0, 0],\n",
       " [0, 1, 3, 3, 1, 0],\n",
       " [0, 1, 4, 6, 4, 1]]"
      ]
     },
     "execution_count": 75,
     "metadata": {},
     "output_type": "execute_result"
    }
   ],
   "source": [
    "str = input() #numRows = 5\n",
    "pattern = \"^numRows = (\\d*)$\"\n",
    "\n",
    "match = re.match(pattern, str)\n",
    "if match:\n",
    "    num = int(match.group(1))\n",
    "\n",
    "helper = [ [0 for j in range(num+1)] for i in range(num)]\n",
    "result = [[] for i in range(num)]\n",
    "result[0] = [1]\n",
    "\n",
    "helper[0][1] = 1\n",
    "for i in range(1, num):\n",
    "    for j in range(1,num+1):\n",
    "        helper[i][j] = helper[i-1][j-1] + helper[i-1][j]\n",
    "        if helper[i][j] != 0:\n",
    "            result[i].append(helper[i][j])\n",
    "print(result)\n",
    "helper"
   ]
  },
  {
   "cell_type": "markdown",
   "id": "7ddd59b9",
   "metadata": {},
   "source": []
  }
 ],
 "metadata": {
  "kernelspec": {
   "display_name": "py3_study",
   "language": "python",
   "name": "python3"
  },
  "language_info": {
   "codemirror_mode": {
    "name": "ipython",
    "version": 3
   },
   "file_extension": ".py",
   "mimetype": "text/x-python",
   "name": "python",
   "nbconvert_exporter": "python",
   "pygments_lexer": "ipython3",
   "version": "3.9.18"
  }
 },
 "nbformat": 4,
 "nbformat_minor": 5
}
