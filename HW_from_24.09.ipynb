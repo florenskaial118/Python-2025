{
 "cells": [
  {
   "cell_type": "markdown",
   "id": "71026dc4",
   "metadata": {},
   "source": [
    "# 1. Convert the Temperature (LeetCode: 2469)\n",
    "https://leetcode.com/problems/convert-the-temperature/"
   ]
  },
  {
   "cell_type": "markdown",
   "id": "eccb8e96",
   "metadata": {},
   "source": [
    "*Example 1:*\n",
    "\n",
    "**Input**: celsius = 36.50\n",
    "\n",
    "**Output**: [309.65000,97.70000]\n",
    "\n",
    "**Explanation**: Temperature at 36.50 Celsius converted in Kelvin is 309.65 and converted in Fahrenheit is 97.70.\n",
    "\n",
    "*Example 2:*\n",
    "\n",
    "**Input**: celsius = 122.11\n",
    "\n",
    "**Output**: [395.26000,251.79800]\n",
    "\n",
    "**Explanation**: Temperature at 122.11 Celsius converted in Kelvin is 395.26 and converted in Fahrenheit is 251.798."
   ]
  },
  {
   "cell_type": "code",
   "execution_count": 24,
   "id": "50d96313",
   "metadata": {},
   "outputs": [
    {
     "name": "stdout",
     "output_type": "stream",
     "text": [
      "[395.26000 251.79800]\n"
     ]
    }
   ],
   "source": [
    "import re\n",
    "\n",
    "string = input()\n",
    "pattern = \"^celsius = (\\d*\\.\\d{2})$\"\n",
    "\n",
    "match = re.match(pattern, string)\n",
    "if match:\n",
    "    temperature = float(match.group(1))\n",
    "    kelvin = temperature + 273.15\n",
    "    fahrenheit = temperature * 1.8 + 32\n",
    "    \n",
    "    print(f\"[{kelvin:.5f} {fahrenheit:.5f}]\")\n",
    "\n",
    "\n"
   ]
  },
  {
   "cell_type": "markdown",
   "id": "982d6b99",
   "metadata": {},
   "source": [
    "2. Robot Return to Origin (LeetCode: 657)\n",
    "https://leetcode.com/problems/robot-return-to-origin/"
   ]
  },
  {
   "cell_type": "markdown",
   "id": "30353c74",
   "metadata": {},
   "source": [
    "\n",
    "3. Valid Palindrome (LeetCode: 125)\n",
    "https://leetcode.com/problems/valid-palindrome/\n"
   ]
  },
  {
   "cell_type": "markdown",
   "id": "7b04059a",
   "metadata": {},
   "source": [
    "4. Valid Anagram (LeetCode: 242)\n",
    "https://leetcode.com/problems/valid-anagram/"
   ]
  },
  {
   "cell_type": "markdown",
   "id": "92d81a96",
   "metadata": {},
   "source": [
    "5. Pascal's Triangle (LeetCode: 118)\n",
    "https://leetcode.com/problems/pascals-triangle/"
   ]
  }
 ],
 "metadata": {
  "kernelspec": {
   "display_name": "py3_study",
   "language": "python",
   "name": "python3"
  },
  "language_info": {
   "codemirror_mode": {
    "name": "ipython",
    "version": 3
   },
   "file_extension": ".py",
   "mimetype": "text/x-python",
   "name": "python",
   "nbconvert_exporter": "python",
   "pygments_lexer": "ipython3",
   "version": "3.9.18"
  }
 },
 "nbformat": 4,
 "nbformat_minor": 5
}
